{
 "cells": [
  {
   "cell_type": "code",
   "execution_count": 33,
   "metadata": {},
   "outputs": [],
   "source": [
    "import numpy as np\n",
    "import pickle\n",
    "import pandas as pd\n",
    "import datetime as dt\n",
    "import matplotlib.pyplot as plt\n",
    "import seaborn as sns\n",
    "from sklearn.model_selection import train_test_split\n",
    "from sklearn.linear_model import LogisticRegression\n",
    "from sklearn.metrics import accuracy_score, classification_report, roc_curve, auc"
   ]
  },
  {
   "cell_type": "code",
   "execution_count": 12,
   "metadata": {},
   "outputs": [
    {
     "name": "stdout",
     "output_type": "stream",
     "text": [
      "Index History: <class 'dict'> 20\n",
      "Saved Indices: <class 'list'> 20\n",
      "Saved Tickers: <class 'list'> 101\n",
      "Ticker History: <class 'dict'> 101\n",
      "Earning History: <class 'dict'> 101\n"
     ]
    }
   ],
   "source": [
    "# Define the file paths\n",
    "file_paths = [\"index_history.pkl\", \"saved_indexes.pkl\", \"saved_symbols.pkl\", \"ticker_history.pkl\", \"event_clean.pkl\"]\n",
    "\n",
    "# Load the data from each file\n",
    "data_dict = {}\n",
    "\n",
    "for path in file_paths:\n",
    "    with open(path, \"rb\") as file:\n",
    "        data = pickle.load(file, encoding='latin1')\n",
    "        data_dict[path] = data\n",
    "\n",
    "# Access the loaded data\n",
    "index_history = data_dict[\"index_history.pkl\"]\n",
    "saved_indices = data_dict[\"saved_indexes.pkl\"]\n",
    "saved_tickers = data_dict[\"saved_symbols.pkl\"]\n",
    "ticker_history = data_dict[\"ticker_history.pkl\"]\n",
    "earning_history = data_dict[\"event_clean.pkl\"]\n",
    "\n",
    "# Print some information about the loaded data (optional)\n",
    "print(\"Index History:\", type(index_history), len(index_history))\n",
    "print(\"Saved Indices:\", type(saved_indices), len(saved_indices))\n",
    "print(\"Saved Tickers:\", type(saved_tickers), len(saved_tickers))\n",
    "print(\"Ticker History:\", type(ticker_history), len(ticker_history))\n",
    "print(\"Earning History:\", type(earning_history), len(earning_history))"
   ]
  },
  {
   "cell_type": "code",
   "execution_count": 13,
   "metadata": {},
   "outputs": [],
   "source": [
    "# Define the function that adds log_returns, To Do: Turn this into a pre-processing class\n",
    "\n",
    "def add_log_returns(df):\n",
    "    if np.sum(df['Open'].isna().values) != 0:\n",
    "        df['Open'].fillna(method='bfill', inplace=True)\n",
    "    opens = df['Open'].values\n",
    "    df['log_returns'] = np.log10(opens/opens[0])\n",
    "    df['date'] = df.index.date"
   ]
  },
  {
   "cell_type": "code",
   "execution_count": 14,
   "metadata": {},
   "outputs": [],
   "source": [
    "# Only AAPL has a NaN opening\n",
    "\n",
    "for index in index_history:\n",
    "    add_log_returns(index_history[index])\n",
    "    \n",
    "\n",
    "for ticker in ticker_history:\n",
    "    add_log_returns(ticker_history[ticker])"
   ]
  },
  {
   "cell_type": "code",
   "execution_count": 15,
   "metadata": {},
   "outputs": [],
   "source": [
    "# Double Check for missing values\n",
    "\n",
    "for ticker in ticker_history:\n",
    "    if ticker_history[ticker]['log_returns'][0] == np.nan:\n",
    "        print(ticker)\n",
    "\n",
    "for index in index_history:\n",
    "    if index_history[index]['log_returns'][0] == np.nan:\n",
    "        print(index)"
   ]
  },
  {
   "cell_type": "code",
   "execution_count": 16,
   "metadata": {},
   "outputs": [],
   "source": [
    "# Store binary indicator for surprise\n",
    "\n",
    "def add_surprise_label(df):\n",
    "    df['s_label'] = df['Surprise(%)'].apply(lambda x: 1 if x > 0 else 0)"
   ]
  },
  {
   "cell_type": "code",
   "execution_count": 17,
   "metadata": {},
   "outputs": [],
   "source": [
    "# Running the function\n",
    "\n",
    "for ticker in earning_history:\n",
    "    add_surprise_label(earning_history[ticker])"
   ]
  },
  {
   "cell_type": "code",
   "execution_count": 18,
   "metadata": {},
   "outputs": [],
   "source": [
    "# Gathers 1_mo history(ies) of the ticker df1 given earnings data df2.\n",
    "\n",
    "def gather_1mo_history(df1, df2):\n",
    "\n",
    "    result = []\n",
    "    for date in df2.index:\n",
    "        start_date = date - pd.Timedelta(days=31)\n",
    "        filtered_df1 = df1.loc[start_date:date]\n",
    "        \n",
    "        if len(filtered_df1) < 31:\n",
    "            additional_rows_needed = 31 - len(filtered_df1)\n",
    "            additional_rows = df1.loc[:start_date].tail(additional_rows_needed)\n",
    "            filtered_df1 = pd.concat([additional_rows, filtered_df1])\n",
    "        \n",
    "        filtered_df1 = filtered_df1.iloc[-31:]\n",
    "        \n",
    "        open_values = filtered_df1['Open'].values\n",
    "        result.append(open_values)\n",
    "        \n",
    "    result_df = pd.DataFrame(result, index=df2.index, columns=[f'X_{i+1}' for i in range(31)])\n",
    "    result_df = result_df.dropna()\n",
    "    result_df = np.log10(result_df.div(result_df.iloc[:, -1], axis=0))\n",
    "    result_df = pd.merge(result_df, df2['s_label'], left_index=True, right_index=True, how='left')\n",
    "    result_df.index = result_df.index.tz_convert('UTC')\n",
    "    result_df.index = result_df.index.date \n",
    "    return result_df"
   ]
  },
  {
   "cell_type": "code",
   "execution_count": 32,
   "metadata": {},
   "outputs": [],
   "source": [
    "# Given any two dfs, merge based on concurrent dates\n",
    "\n",
    "def get_concurrent_prices(df1, df2):\n",
    "    return pd.merge(df1, df2, on='date', how='inner', suffixes=('_1', '_2'))\n",
    "\n",
    "# Plot correlations between histories\n",
    "\n",
    "def check_correlation(df1, df2, plot=True, label1='X', label2='Y', color='b', name=None):\n",
    "    df = get_concurrent_prices(df1, df2)\n",
    "    correlation = df[['log_returns_1', 'log_returns_2']].corr().loc['log_returns_1', 'log_returns_2']\n",
    "\n",
    "    fig, axes = plt.subplots(1, 1, figsize=(6, 4))\n",
    "\n",
    "    sns.regplot(x='log_returns_1', y='log_returns_2', data=df, ax=axes, label='corr={:.2f}'.format(correlation), color=color, scatter_kws={'alpha':0.1, 's':15}, line_kws={'ls':'--', 'lw':1.5})\n",
    "    axes.legend(frameon=False)\n",
    "    axes.set_xlabel(label1, fontsize=12, fontfamily='serif')\n",
    "    axes.set_ylabel(label2, fontsize=12, fontfamily='serif')\n",
    "    plt.tight_layout()\n",
    "\n",
    "    if name is not None:\n",
    "        plt.savefig(name+'.png', dpi=300, bbox_inches='tight')\n",
    "\n",
    "    plt.show()"
   ]
  },
  {
   "cell_type": "code",
   "execution_count": 19,
   "metadata": {},
   "outputs": [],
   "source": [
    "# Get X, Y for our fitting\n",
    "\n",
    "def return_variables(ticker):\n",
    "    df1=ticker_history[ticker]\n",
    "    df2=earning_history[ticker]\n",
    "    df=gather_1mo_history(df1, df2)\n",
    "    return df.iloc[:, :30].values, df['s_label'].values"
   ]
  },
  {
   "cell_type": "code",
   "execution_count": 28,
   "metadata": {},
   "outputs": [],
   "source": [
    "for i, ticker in enumerate(ticker_history):\n",
    "    x, y = return_variables(ticker)\n",
    "    if i==0:\n",
    "        X = x\n",
    "        Y = y\n",
    "    else:\n",
    "        X = np.concatenate((X, x))\n",
    "        Y = np.concatenate((Y, y))"
   ]
  },
  {
   "cell_type": "code",
   "execution_count": 31,
   "metadata": {},
   "outputs": [],
   "source": [
    "Y = np.nan_to_num(Y, nan=0)"
   ]
  },
  {
   "cell_type": "code",
   "execution_count": 34,
   "metadata": {},
   "outputs": [
    {
     "name": "stdout",
     "output_type": "stream",
     "text": [
      "              precision    recall  f1-score   support\n",
      "\n",
      "           0       0.23      0.57      0.33        61\n",
      "           1       0.87      0.59      0.70       283\n",
      "\n",
      "    accuracy                           0.59       344\n",
      "   macro avg       0.55      0.58      0.52       344\n",
      "weighted avg       0.75      0.59      0.64       344\n",
      "\n"
     ]
    }
   ],
   "source": [
    "X_train, X_test, y_train, y_test = train_test_split(X, Y, test_size=0.2, random_state=42)\n",
    "\n",
    "model = LogisticRegression(class_weight='balanced')\n",
    "model.fit(X_train, y_train)\n",
    "\n",
    "# Predict on the test set\n",
    "y_pred = model.predict(X_test)\n",
    "\n",
    "# Evaluate model\n",
    "print(classification_report(y_test, y_pred))"
   ]
  },
  {
   "cell_type": "code",
   "execution_count": 35,
   "metadata": {},
   "outputs": [
    {
     "data": {
      "image/png": "[encoded data removed]",
      "text/plain": [
       "<Figure size 800x500 with 1 Axes>"
      ]
     },
     "metadata": {},
     "output_type": "display_data"
    }
   ],
   "source": [
    "fpr, tpr, thresholds = roc_curve(y_test, model.predict_proba(X_test)[:, 1])\n",
    "roc_auc = auc(fpr, tpr)\n",
    "\n",
    "# Plot ROC curve\n",
    "plt.figure(figsize=(8, 5))\n",
    "plt.plot(fpr, tpr, color='blue', lw=2, label='ROC curve (area = %0.2f)' % roc_auc)\n",
    "plt.plot([0, 1], [0, 1], color='red', lw=2, linestyle='--', label='Random guess')\n",
    "plt.xlim([0.0, 1.0])\n",
    "plt.ylim([0.0, 1.05])\n",
    "\n",
    "plt.xlabel('False Positive Rate', fontsize=14, fontfamily='serif')\n",
    "plt.ylabel('True Positive Rate', fontsize=14, fontfamily='serif')\n",
    "\n",
    "plt.legend(loc='lower right', frameon=False)\n",
    "\n",
    "plt.savefig('roc_1.png', dpi=300, bbox_inches='tight')\n",
    "\n",
    "plt.show()"
   ]
  },
  {
   "cell_type": "code",
   "execution_count": null,
   "metadata": {},
   "outputs": [],
   "source": []
  }
 ],
 "metadata": {
  "kernelspec": {
   "display_name": "dynamics",
   "language": "python",
   "name": "python3"
  },
  "language_info": {
   "codemirror_mode": {
    "name": "ipython",
    "version": 3
   },
   "file_extension": ".py",
   "mimetype": "text/x-python",
   "name": "python",
   "nbconvert_exporter": "python",
   "pygments_lexer": "ipython3",
   "version": "3.8.17"
  }
 },
 "nbformat": 4,
 "nbformat_minor": 2
}
